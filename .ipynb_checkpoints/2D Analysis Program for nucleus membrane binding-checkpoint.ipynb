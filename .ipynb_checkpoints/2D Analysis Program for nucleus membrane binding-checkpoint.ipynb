{
 "cells": [
  {
   "cell_type": "code",
   "execution_count": 38,
   "metadata": {},
   "outputs": [],
   "source": [
    "import tkinter as tk\n",
    "from tkinter import filedialog\n",
    "from tkinter import messagebox\n",
    "import warnings\n",
    "import h5py\n",
    "import numpy as np\n",
    "import napari\n",
    "import time\n",
    "import matplotlib\n",
    "from skimage.transform import resize\n",
    "import matplotlib.pyplot as plt\n",
    "plt.rcParams[\"figure.figsize\"] = [16, 12]\n",
    "\n",
    "from skimage.morphology import remove_small_objects, binary_closing, disk, erosion, dilation   # function for post-processing (size filter)\n",
    "from skimage import transform, measure\n",
    "import h5py\n",
    "from tqdm import tqdm\n",
    "import pandas as pd\n",
    "import warnings\n",
    "from skimage.measure import label, regionprops\n",
    "from skimage.segmentation import clear_border\n",
    "import os, glob\n",
    "from tqdm import tqdm\n",
    "from colorama import Fore\n",
    "from scipy.ndimage import gaussian_filter\n",
    "from cellpose import models, io\n",
    "import cv2\n",
    "%gui qt"
   ]
  },
  {
   "cell_type": "code",
   "execution_count": 52,
   "metadata": {},
   "outputs": [],
   "source": [
    "#Copy gaussian smooth function from aics segemntation\n",
    "def image_smoothing_gaussian_3d(struct_img, sigma, truncate_range=3.0):\n",
    "\n",
    "    structure_img_smooth = gaussian_filter(struct_img, sigma=sigma, mode='nearest', truncate=truncate_range)\n",
    "\n",
    "    return structure_img_smooth\n",
    "\n",
    "# A class to perform segmentation, store segmentation attributes and conduct image statistical analysis\n",
    "class Nucleus_2D_Segmentation:\n",
    "\n",
    "    def __init__ (self, img_direct):\n",
    "        self.dir = img_direct\n",
    "        self.Raw_img_list = []\n",
    "        self.MIP_img_list = []\n",
    "        self.bg_img_list = []\n",
    "        self.DOG_img_list = []\n",
    "        self.flow_list = []\n",
    "        self.mask_list_original = []\n",
    "        self.mask_list_processed = []\n",
    "        self.center_list = []\n",
    "        self.intensity_list = []\n",
    "        self.intensity_bg_list = []\n",
    "        self.intensity_ratio_list = []\n",
    "        \n",
    "    #function to retrieve images and combine into a single list\n",
    "    def img_list_extract (self):\n",
    "        os.chdir(self.dir)\n",
    "        Image_Files = glob.glob(\"*.hdf5\")\n",
    "\n",
    "        pb = tqdm(range(len(Image_Files)), bar_format=\"{l_bar}%s{bar}%s{r_bar}\" % (Fore.LIGHTCYAN_EX, Fore.RESET))\n",
    "\n",
    "        for n in pb:\n",
    "          pb.set_description ('Import Image Sequence')\n",
    "          file = Image_Files[n]\n",
    "          f = h5py.File(file, 'r')\n",
    "\n",
    "          image = f['561 Channel'][:]\n",
    "          \n",
    "          MIP_Image = np.max(image, axis = 1)[0]\n",
    "\n",
    "          self.Raw_img_list.append(image)\n",
    "          self.MIP_img_list.append(MIP_Image)\n",
    "        \n",
    "        self.Raw_img_list = np.array(self.Raw_img_list)\n",
    "        self.MIP_img_list = np.array(self.MIP_img_list)\n",
    "\n",
    "    \n",
    "    #function to do background substraction through difference of gaussian (DOG)\n",
    "    def MIP_DOG (self,sigma1 = 9, sigma2 = 1.4):\n",
    "        self.sigma1 = sigma1\n",
    "        self.sigma2 = sigma2\n",
    "        \n",
    "        pb = tqdm(range(self.MIP_img_list.shape[0]), bar_format=\"{l_bar}%s{bar}%s{r_bar}\" % (Fore.RED, Fore.RESET))\n",
    "        \n",
    "        for n in pb:\n",
    "           pb.set_description ('Gaussian Smooth and Background Substraction') \n",
    "           img = self.Raw_img_list[n]\n",
    "\n",
    "           img_bg = image_smoothing_gaussian_3d (img, sigma = self.sigma1)\n",
    "           smooth_img = image_smoothing_gaussian_3d (img, sigma = self.sigma2 )\n",
    "\n",
    "           DOG_img = smooth_img - img_bg\n",
    "           \n",
    "           img_bg_MIP = np.max(img_bg, axis = 1)[0]\n",
    "            \n",
    "           DOG_img_MIP = np.max(DOG_img, axis = 1)[0]\n",
    "\n",
    "           self.bg_img_list.append(img_bg_MIP)\n",
    "           self.DOG_img_list.append(DOG_img_MIP)\n",
    "\n",
    "        self.bg_img_list = np.array(self.bg_img_list)\n",
    "\n",
    "    # function to perform segmentation using Cellpose deep learning algorithm\n",
    "    def cell_pose_segmentation (self):\n",
    "\n",
    "       # DEFINE CELLPOSE MODEL\n",
    "       # model_type='cyto' or model_type='nuclei'\n",
    "       model = models.Cellpose(gpu=False, model_type='nuclei')\n",
    "\n",
    "       # define CHANNELS to run segementation on\n",
    "       # grayscale=0, R=1, G=2, B=3\n",
    "       # channels = [cytoplasm, nucleus]\n",
    "       # if NUCLEUS channel does not exist, set the second channel to 0\n",
    "       # channels = [0,0]\n",
    "       # IF ALL YOUR IMAGES ARE THE SAME TYPE, you can give a list with 2 elements\n",
    "       # channels = [0,0] # IF YOU HAVE GRAYSCALE\n",
    "       # channels = [2,3] # IF YOU HAVE G=cytoplasm and B=nucleus\n",
    "       # channels = [2,1] # IF YOU HAVE G=cytoplasm and R=nucleus\n",
    "\n",
    "       # or if you have different types of channels in each image\n",
    "       channels = [[0,0]]*len(self.DOG_img_list)\n",
    "\n",
    "       # if diameter is set to None, the size of the cells is estimated on a per image basis\n",
    "       # you can set the average cell `diameter` in pixels yourself (recommended) \n",
    "       # diameter can be a list or a single number for all images\n",
    "       masks, flows, styles, diams = model.eval(self.DOG_img_list, diameter=None, channels=channels)\n",
    "       \n",
    "       self.mask_list_original = masks\n",
    "\n",
    "       for n in range(len(flows)):\n",
    "          \n",
    "          flow_original = flows[n][0]\n",
    "          \n",
    "          # Resize as the mask size\n",
    "          img_shape = self.MIP_img_list[0].shape\n",
    "          flow_resize = resize(flow_original, (img_shape[0], img_shape[1]))\n",
    "\n",
    "          self.flow_list.append(flow_resize)\n",
    "       \n",
    "       #convert DOG_img_list and flow_list to numpy array\n",
    "       self.DOG_img_list = np.array(self.DOG_img_list)\n",
    "       self.flow_list = np.array(self.flow_list)\n",
    "    \n",
    "    # function to remove small objects and touching objects\n",
    "    def remove_touch_small (self, minimum_size = 600):\n",
    "       self.min_size = minimum_size\n",
    "       pb = tqdm(range(len(self.mask_list_original)), bar_format=\"{l_bar}%s{bar}%s{r_bar}\" % (Fore.BLUE, Fore.RESET))\n",
    "\n",
    "\n",
    "       for n in pb:\n",
    "         pb.set_description ('Remove small object and touching object')   \n",
    "         msk = self.mask_list_original[n]\n",
    "\n",
    "         msk = clear_border(msk)\n",
    "         msk = remove_small_objects(msk, min_size=self.min_size, connectivity=1, in_place=False)\n",
    "         msk = label(msk)\n",
    "  \n",
    "         self.mask_list_processed.append(msk)\n",
    "\n",
    "    # function to quantify membrane binding intensity ratio for 1 image\n",
    "    def Intensity_Quantification_Single (self,n):\n",
    "         \n",
    "\n",
    "         msk = self.mask_list_processed [n]\n",
    "         intensity_img = self.DOG_img_list [n]\n",
    "            \n",
    "         region = regionprops (msk)\n",
    "         \n",
    "         num = 1\n",
    "         for r in region:\n",
    "           nucleus_label = r.label\n",
    "           img = msk == nucleus_label\n",
    "    \n",
    "           y = r.centroid[0]\n",
    "           x = r.centroid[1]\n",
    "    \n",
    "           self.center_list.append((n,y,x))\n",
    "           \n",
    "           # Look at 4 pixel ring around the contour\n",
    "           segmented_image_shell = np.logical_xor(dilation(img, selem=disk(2)),erosion(img, selem=disk(2)))\n",
    "    \n",
    "           intensity_median = np.max(intensity_img[segmented_image_shell==True])\n",
    "\n",
    "           intensity_background = np.max(intensity_img[int(y),int(x)])\n",
    "    \n",
    "           self.intensity_list.append(intensity_median)\n",
    "    \n",
    "           self.intensity_bg_list.append(intensity_background)\n",
    "    \n",
    "           intensity_median_ratio = intensity_median / intensity_background\n",
    "    \n",
    "           self.intensity_ratio_list.append(intensity_median_ratio)\n",
    "        \n",
    "           self.segmented_image_shell_final[n,:,:] += segmented_image_shell * num\n",
    "    \n",
    "           num += 1\n",
    "\n",
    "    # function to quantify membrane binding intensity ratio in multiple images\n",
    "    def intensity_Quantification_Multiple (self):\n",
    "        self.segmented_image_shell_final = np.zeros(np.array(self.mask_list_processed).shape)\n",
    "\n",
    "        pb = tqdm(range(self.DOG_img_list.shape[0]), bar_format=\"{l_bar}%s{bar}%s{r_bar}\" % (Fore.MAGENTA, Fore.RESET))\n",
    "          \n",
    "        for n in pb:\n",
    "          self.Intensity_Quantification_Single(n)\n",
    "         \n",
    "        self.mask_list_processed = np.array(self.mask_list_processed)\n",
    "\n",
    "        self.intensity_list = np.array(self.intensity_list)\n",
    "        self.intensity_bg_list = np.array(self.intensity_bg_list)\n",
    "        self.intensity_ratio_list = np.array(self.intensity_ratio_list)\n",
    "        self.center_list = np.array(self.center_list)"
   ]
  },
  {
   "cell_type": "code",
   "execution_count": 51,
   "metadata": {},
   "outputs": [
    {
     "name": "stderr",
     "output_type": "stream",
     "text": [
      "Import Image Sequence:   0%|\u001b[96m                            \u001b[39m| 0/20 [00:00<?, ?it/s]\u001b[0m"
     ]
    },
    {
     "name": "stdout",
     "output_type": "stream",
     "text": [
      "Z:/Niethammer Lab/Joe/Research Project/Cell Swelling Experiment/20201120 Cell Swelling Experiment/A549 14 15 Equilibrium Calcium Hypo/600\n"
     ]
    },
    {
     "name": "stderr",
     "output_type": "stream",
     "text": [
      "Import Image Sequence: 100%|\u001b[96m███████████████████\u001b[39m| 20/20 [00:12<00:00,  1.55it/s]\u001b[0m\n",
      "Gaussian Smooth and Background Substraction: 100%|\u001b[31m█\u001b[39m| 20/20 [00:03<00:00,  5.28i\u001b[0m\n"
     ]
    },
    {
     "name": "stdout",
     "output_type": "stream",
     "text": [
      ">>>> using CPU\n",
      "cellpose_residual_on_style_on_concatenation_off\n",
      "processing 20 image(s)\n"
     ]
    },
    {
     "name": "stderr",
     "output_type": "stream",
     "text": [
      "100%|██████████████████████████████████████████| 20/20 [00:59<00:00,  2.97s/it]\n"
     ]
    },
    {
     "name": "stdout",
     "output_type": "stream",
     "text": [
      "time spent: running network 59.20s; flow+mask computation 0.00\n"
     ]
    },
    {
     "name": "stderr",
     "output_type": "stream",
     "text": [
      "100%|██████████████████████████████████████████| 20/20 [00:31<00:00,  1.60s/it]\n"
     ]
    },
    {
     "name": "stdout",
     "output_type": "stream",
     "text": [
      "time spent: running network 24.28s; flow+mask computation 7.47\n",
      "estimated cell diameters for 20 image(s) in 92.30 sec\n"
     ]
    },
    {
     "name": "stderr",
     "output_type": "stream",
     "text": [
      "100%|██████████████████████████████████████████| 20/20 [00:43<00:00,  2.18s/it]\n"
     ]
    },
    {
     "name": "stdout",
     "output_type": "stream",
     "text": [
      "time spent: running network 40.34s; flow+mask computation 3.28\n",
      "estimated masks for 20 image(s) in 44.01 sec\n",
      ">>>> TOTAL TIME 136.31 sec\n"
     ]
    },
    {
     "name": "stderr",
     "output_type": "stream",
     "text": [
      "Remove small object and touching object: 100%|\u001b[34m█\u001b[39m| 20/20 [00:00<00:00, 57.93it/s]\u001b[0m\n",
      "100%|\u001b[35m██████████████████████████████████████████\u001b[39m| 20/20 [00:04<00:00,  4.33it/s]\u001b[0m\n"
     ]
    }
   ],
   "source": [
    "# Use tkinter to interactively select files to import\n",
    "root = tk.Tk()\n",
    "root.withdraw()\n",
    "\n",
    "directory = filedialog.askdirectory(initialdir=os.path.dirname(os.getcwd()))\n",
    "\n",
    "\n",
    "print(directory)\n",
    "\n",
    "#Setup Analysis object\n",
    "Nucleus_Segment = Nucleus_2D_Segmentation(directory)\n",
    "\n",
    "#Extract all images and combine into 1 list\n",
    "Nucleus_Segment.img_list_extract()\n",
    "\n",
    "#Perform gaussian smooth and background substraction\n",
    "Nucleus_Segment.MIP_DOG(sigma1=10,sigma2=2)\n",
    "\n",
    "#Perform Cellpose segmentation\n",
    "Nucleus_Segment.cell_pose_segmentation()\n",
    "\n",
    "#Remove touching object and small object\n",
    "Nucleus_Segment.remove_touch_small(minimum_size= 600)\n",
    "\n",
    "# Statistic Quantification\n",
    "Nucleus_Segment.intensity_Quantification_Multiple()\n",
    "\n",
    "# Add labels with text to images\n",
    "properties = {\n",
    "    'Med': Nucleus_Segment.intensity_list,\n",
    "    'bg': Nucleus_Segment.intensity_bg_list,\n",
    "    'ratio': Nucleus_Segment.intensity_ratio_list\n",
    "}\n",
    "\n",
    "text_parameters = {\n",
    "    'text': 'Int: {Med: .4f}\\nBg: {bg:.4f}\\nRatio: {ratio: .4f}',\n",
    "    'size': 14,\n",
    "    'color': 'white',\n",
    "    'anchor': 'upper_right',\n",
    "    'translation': [-5, 0]\n",
    "}\n",
    "\n",
    "\n",
    "# Open image and analysis result in Napari Veiwer. Do manual anotations in Napari viewer\n",
    "with napari.gui_qt():\n",
    "    viewer = napari.Viewer()\n",
    "    viewer.add_image(Nucleus_Segment.MIP_img_list,name='Raw Image',colormap='red')\n",
    "    viewer.add_image(Nucleus_Segment.bg_img_list,name='Background Image',colormap='red')\n",
    "    viewer.add_image(Nucleus_Segment.DOG_img_list,name='Background Substracted Image',colormap='red')\n",
    "    viewer.add_image(Nucleus_Segment.flow_list,name='Cell_Pose_Flow',rgb=True)\n",
    "    viewer.add_labels(Nucleus_Segment.mask_list_processed,name='Nucleus Labels')\n",
    "    viewer.add_labels(Nucleus_Segment.segmented_image_shell_final,name='Nucleus Contour Labels')\n",
    "\n",
    "    pts = viewer.add_points(Nucleus_Segment.center_list,face_color = 'white',size=6,edge_color = 'blue',edge_width=2,name = 'Nucleus centroids with Stats',properties=properties,text=text_parameters)"
   ]
  },
  {
   "cell_type": "code",
   "execution_count": 32,
   "metadata": {},
   "outputs": [],
   "source": [
    "a = Nucleus_Segment.MIP_img_list[0]"
   ]
  },
  {
   "cell_type": "code",
   "execution_count": 37,
   "metadata": {},
   "outputs": [
    {
     "ename": "TypeError",
     "evalue": "ufunc 'bitwise_and' not supported for the input types, and the inputs could not be safely coerced to any supported types according to the casting rule ''safe''",
     "output_type": "error",
     "traceback": [
      "\u001b[1;31m---------------------------------------------------------------------------\u001b[0m",
      "\u001b[1;31mTypeError\u001b[0m                                 Traceback (most recent call last)",
      "\u001b[1;32m<ipython-input-37-c84e852f848e>\u001b[0m in \u001b[0;36m<module>\u001b[1;34m\u001b[0m\n\u001b[0;32m      1\u001b[0m \u001b[1;32mfrom\u001b[0m \u001b[0mrolling_ball\u001b[0m \u001b[1;32mimport\u001b[0m \u001b[0msubtract_background_rolling_ball\u001b[0m\u001b[1;33m\u001b[0m\u001b[1;33m\u001b[0m\u001b[0m\n\u001b[1;32m----> 2\u001b[1;33m \u001b[0mi\u001b[0m\u001b[1;33m,\u001b[0m\u001b[0mb\u001b[0m \u001b[1;33m=\u001b[0m \u001b[0msubtract_background_rolling_ball\u001b[0m\u001b[1;33m(\u001b[0m\u001b[0ma\u001b[0m\u001b[1;33m,\u001b[0m\u001b[1;36m40\u001b[0m\u001b[1;33m)\u001b[0m\u001b[1;33m\u001b[0m\u001b[1;33m\u001b[0m\u001b[0m\n\u001b[0m\u001b[0;32m      3\u001b[0m \u001b[0mplt\u001b[0m\u001b[1;33m.\u001b[0m\u001b[0mimshow\u001b[0m \u001b[1;33m(\u001b[0m\u001b[0mb\u001b[0m\u001b[1;33m)\u001b[0m\u001b[1;33m\u001b[0m\u001b[1;33m\u001b[0m\u001b[0m\n",
      "\u001b[1;32m~\\Desktop\\Cell-Nucleus-Membrane-Binding-2D\\rolling_ball.py\u001b[0m in \u001b[0;36msubtract_background_rolling_ball\u001b[1;34m(img, radius, light_background, use_paraboloid, do_presmooth)\u001b[0m\n\u001b[0;32m     41\u001b[0m     \"\"\"\n\u001b[0;32m     42\u001b[0m     \u001b[0mbs\u001b[0m \u001b[1;33m=\u001b[0m \u001b[0mBackgroundSubtract\u001b[0m\u001b[1;33m(\u001b[0m\u001b[1;33m)\u001b[0m\u001b[1;33m\u001b[0m\u001b[1;33m\u001b[0m\u001b[0m\n\u001b[1;32m---> 43\u001b[1;33m     \u001b[1;32mreturn\u001b[0m \u001b[0mbs\u001b[0m\u001b[1;33m.\u001b[0m\u001b[0mrolling_ball_background\u001b[0m\u001b[1;33m(\u001b[0m\u001b[0mimg\u001b[0m\u001b[1;33m,\u001b[0m \u001b[0mradius\u001b[0m\u001b[1;33m,\u001b[0m \u001b[0mlight_background\u001b[0m\u001b[1;33m,\u001b[0m \u001b[0muse_paraboloid\u001b[0m\u001b[1;33m,\u001b[0m \u001b[0mdo_presmooth\u001b[0m\u001b[1;33m)\u001b[0m\u001b[1;33m\u001b[0m\u001b[1;33m\u001b[0m\u001b[0m\n\u001b[0m\u001b[0;32m     44\u001b[0m \u001b[1;33m\u001b[0m\u001b[0m\n\u001b[0;32m     45\u001b[0m \u001b[1;33m\u001b[0m\u001b[0m\n",
      "\u001b[1;32m~\\Desktop\\Cell-Nucleus-Membrane-Binding-2D\\rolling_ball.py\u001b[0m in \u001b[0;36mrolling_ball_background\u001b[1;34m(self, img, radius, light_background, use_paraboloid, do_presmooth)\u001b[0m\n\u001b[0;32m    110\u001b[0m         \u001b[0moffset\u001b[0m \u001b[1;33m=\u001b[0m \u001b[1;36m255.5\u001b[0m \u001b[1;32mif\u001b[0m \u001b[0minvert\u001b[0m \u001b[1;32melse\u001b[0m \u001b[1;36m0.5\u001b[0m\u001b[1;33m\u001b[0m\u001b[1;33m\u001b[0m\u001b[0m\n\u001b[0;32m    111\u001b[0m         \u001b[1;32mfor\u001b[0m \u001b[0mp\u001b[0m \u001b[1;32min\u001b[0m \u001b[0mrange\u001b[0m\u001b[1;33m(\u001b[0m\u001b[1;36m0\u001b[0m\u001b[1;33m,\u001b[0m \u001b[0mself\u001b[0m\u001b[1;33m.\u001b[0m\u001b[0mwidth\u001b[0m\u001b[1;33m*\u001b[0m\u001b[0mself\u001b[0m\u001b[1;33m.\u001b[0m\u001b[0mheight\u001b[0m\u001b[1;33m)\u001b[0m\u001b[1;33m:\u001b[0m\u001b[1;33m\u001b[0m\u001b[1;33m\u001b[0m\u001b[0m\n\u001b[1;32m--> 112\u001b[1;33m             \u001b[0mvalue\u001b[0m \u001b[1;33m=\u001b[0m \u001b[1;33m(\u001b[0m\u001b[0m_img\u001b[0m\u001b[1;33m[\u001b[0m\u001b[0mp\u001b[0m\u001b[1;33m]\u001b[0m\u001b[1;33m&\u001b[0m\u001b[1;36m0xff\u001b[0m\u001b[1;33m)\u001b[0m \u001b[1;33m-\u001b[0m \u001b[0mfloat_img\u001b[0m\u001b[1;33m[\u001b[0m\u001b[0mp\u001b[0m\u001b[1;33m]\u001b[0m \u001b[1;33m+\u001b[0m \u001b[0moffset\u001b[0m\u001b[1;33m\u001b[0m\u001b[1;33m\u001b[0m\u001b[0m\n\u001b[0m\u001b[0;32m    113\u001b[0m             \u001b[0mvalue\u001b[0m \u001b[1;33m=\u001b[0m \u001b[0mmax\u001b[0m\u001b[1;33m(\u001b[0m\u001b[1;33m(\u001b[0m\u001b[0mvalue\u001b[0m\u001b[1;33m,\u001b[0m \u001b[1;36m0\u001b[0m\u001b[1;33m)\u001b[0m\u001b[1;33m)\u001b[0m\u001b[1;33m\u001b[0m\u001b[1;33m\u001b[0m\u001b[0m\n\u001b[0;32m    114\u001b[0m             \u001b[0mvalue\u001b[0m \u001b[1;33m=\u001b[0m \u001b[0mmin\u001b[0m\u001b[1;33m(\u001b[0m\u001b[1;33m(\u001b[0m\u001b[0mvalue\u001b[0m\u001b[1;33m,\u001b[0m \u001b[1;36m255\u001b[0m\u001b[1;33m)\u001b[0m\u001b[1;33m)\u001b[0m\u001b[1;33m\u001b[0m\u001b[1;33m\u001b[0m\u001b[0m\n",
      "\u001b[1;31mTypeError\u001b[0m: ufunc 'bitwise_and' not supported for the input types, and the inputs could not be safely coerced to any supported types according to the casting rule ''safe''"
     ]
    }
   ],
   "source": []
  },
  {
   "cell_type": "code",
   "execution_count": null,
   "metadata": {},
   "outputs": [],
   "source": [
    "Old_properties = df.DataFrame(properties)\n",
    "New_properties = df.DataFrame(pts.properties)\n",
    "\n",
    "# Print out the properties of deleted nucleus\n",
    "Deleted_properties = Old_properties[~Old_properties.apply(tuple,1).isin(New_properties.apply(tuple,1))]\n",
    "\n",
    "print(Deleted_properties.to_string())"
   ]
  },
  {
   "cell_type": "code",
   "execution_count": null,
   "metadata": {},
   "outputs": [],
   "source": [
    "# Save the membrane binding properties as csv in the same directory\n",
    "Ca_number = directory.split(\"/\")[-1]\n",
    "stats_save_name='{Folder_name}/{num}_analysis_result.csv'.format(Folder_name = directory, num = Ca_number)\n",
    "\n",
    "New_properties.to_csv(stats_save_name)\n"
   ]
  }
 ],
 "metadata": {
  "kernelspec": {
   "display_name": "Python 3",
   "language": "python",
   "name": "python3"
  },
  "language_info": {
   "codemirror_mode": {
    "name": "ipython",
    "version": 3
   },
   "file_extension": ".py",
   "mimetype": "text/x-python",
   "name": "python",
   "nbconvert_exporter": "python",
   "pygments_lexer": "ipython3",
   "version": "3.7.6"
  }
 },
 "nbformat": 4,
 "nbformat_minor": 4
}
